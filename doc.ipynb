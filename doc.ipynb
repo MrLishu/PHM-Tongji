{
 "cells": [
  {
   "cell_type": "code",
   "execution_count": null,
   "metadata": {},
   "outputs": [],
   "source": [
    "import os\n",
    "import scipy.signal as signal\n",
    "import numpy as np\n",
    "import pandas as pd\n",
    "from sklearn import preprocessing\n",
    "import pywt\n",
    "import scipy\n",
    "import scipy.io\n",
    "from scipy.ndimage.interpolation import zoom\n",
    "from scipy.fftpack import fft\n",
    "\n",
    "from utils import *"
   ]
  },
  {
   "cell_type": "code",
   "execution_count": null,
   "metadata": {},
   "outputs": [],
   "source": [
    "mat_file = r'data/mill/mill.mat'\n",
    "mat = scipy.io.loadmat(mat_file)\n",
    "mat = mat['mill'][0]\n",
    "\n",
    "condition_name = ['case', 'run', 'VB', 'time', 'DOC', 'feed', 'material'] \n",
    "signal_name = ['smcAC', 'smcDC', 'vib_table', 'vib_spindle', 'AE_table', 'AE_spindle']"
   ]
  },
  {
   "cell_type": "code",
   "execution_count": null,
   "metadata": {},
   "outputs": [],
   "source": [
    "condition_data = np.array(mat[condition_name].tolist()).squeeze()\n",
    "condition_dataset = pd.DataFrame(condition_data, columns=condition_name)\n",
    "signal_dataset = [pd.DataFrame(np.array(data).squeeze().T, columns=signal_name) for data in mat[signal_name].tolist()]"
   ]
  },
  {
   "cell_type": "code",
   "execution_count": null,
   "metadata": {},
   "outputs": [],
   "source": [
    "condition_dataset.info()"
   ]
  },
  {
   "cell_type": "code",
   "execution_count": null,
   "metadata": {},
   "outputs": [],
   "source": [
    "df = signal_dataset[0]\n",
    "df.info()"
   ]
  },
  {
   "cell_type": "code",
   "execution_count": null,
   "metadata": {},
   "outputs": [],
   "source": [
    "totalscale = 256\n",
    "wavename = 'morl'\n",
    "sampling_rate = 250\n",
    "resize_size = 224\n",
    "\n",
    "fc = pywt.central_frequency(wavename)\n",
    "cparam = 2 * fc * totalscale\n",
    "scales = cparam / np.arange(totalscale, 1, -1)"
   ]
  },
  {
   "cell_type": "code",
   "execution_count": null,
   "metadata": {},
   "outputs": [],
   "source": [
    "signal = np.array(df['smcAC'])\n",
    "signal = signal[(len(signal) - 1024) // 2:(len(signal) + 1024) // 2]\n",
    "cwtmatr, frequencies = pywt.cwt(signal, scales, wavename, 1 / sampling_rate)\n",
    "plot_cwt(sampling_rate, signal, cwtmatr, frequencies)"
   ]
  },
  {
   "cell_type": "code",
   "execution_count": null,
   "metadata": {},
   "outputs": [],
   "source": [
    "signal = np.array(df['smcDC'])\n",
    "signal = signal[(len(signal) - 1024) // 2:(len(signal) + 1024) // 2]\n",
    "cwtmatr, frequencies = pywt.cwt(signal, scales, wavename, 1 / sampling_rate)\n",
    "plot_cwt(sampling_rate, signal, cwtmatr, frequencies)"
   ]
  },
  {
   "cell_type": "code",
   "execution_count": null,
   "metadata": {},
   "outputs": [],
   "source": [
    "signal = np.array(df['vib_table'])\n",
    "signal = signal[(len(signal) - 1024) // 2:(len(signal) + 1024) // 2]\n",
    "cwtmatr, frequencies = pywt.cwt(signal, scales, wavename, 1 / sampling_rate)\n",
    "plot_cwt(sampling_rate, signal, cwtmatr, frequencies)"
   ]
  },
  {
   "cell_type": "code",
   "execution_count": null,
   "metadata": {},
   "outputs": [],
   "source": [
    "signal = np.array(df['vib_spindle'])\n",
    "signal = signal[(len(signal) - 1024) // 2:(len(signal) + 1024) // 2]\n",
    "cwtmatr, frequencies = pywt.cwt(signal, scales, wavename, 1 / sampling_rate)\n",
    "plot_cwt(sampling_rate, signal, cwtmatr, frequencies)"
   ]
  },
  {
   "cell_type": "code",
   "execution_count": null,
   "metadata": {},
   "outputs": [],
   "source": [
    "signal = np.array(df['AE_table'])\n",
    "signal = signal[(len(signal) - 1024) // 2:(len(signal) + 1024) // 2]\n",
    "cwtmatr, frequencies = pywt.cwt(signal, scales, wavename, 1 / sampling_rate)\n",
    "plot_cwt(sampling_rate, signal, cwtmatr, frequencies)"
   ]
  },
  {
   "cell_type": "code",
   "execution_count": null,
   "metadata": {},
   "outputs": [],
   "source": [
    "signal = np.array(df['AE_spindle'])\n",
    "signal = signal[(len(signal) - 1024) // 2:(len(signal) + 1024) // 2]\n",
    "cwtmatr, frequencies = pywt.cwt(signal, scales, wavename, 1 / sampling_rate)\n",
    "plot_cwt(sampling_rate, signal, cwtmatr, frequencies)"
   ]
  },
  {
   "cell_type": "markdown",
   "metadata": {},
   "source": [
    "# Useless"
   ]
  },
  {
   "cell_type": "code",
   "execution_count": null,
   "metadata": {},
   "outputs": [],
   "source": [
    "totalscale = 256\n",
    "wavename = 'morl'\n",
    "sampling_rate = 5000\n",
    "\n",
    "fc = pywt.central_frequency(wavename)\n",
    "cparam = 2 * fc * totalscale\n",
    "scales = cparam / np.arange(totalscale, 0, -1)"
   ]
  },
  {
   "cell_type": "code",
   "execution_count": null,
   "metadata": {},
   "outputs": [],
   "source": [
    "path = r'data/c1'\n",
    "sample_number = 3\n",
    "column_number = 6\n",
    "num_para = 1\n",
    "length_para = 1024\n",
    "\n",
    "columns = ['Fx', 'Fy', 'Fz', 'Ax', 'Ay', 'Az', 'AE_rms']\n",
    "\n",
    "data_train = np.empty([sample_number * num_para, column_number, length_para])\n",
    "\n",
    "for i in range(sample_number):\n",
    "    data_path = os.path.join(path, f'c_1_{i + 1:03d}.csv')\n",
    "    csv_data = pd.read_csv(data_path, names=columns)\n",
    "\n",
    "    for k in range(column_number):\n",
    "        scaler = preprocessing.StandardScaler()\n",
    "\n",
    "        column_data = csv_data.iloc[:, k]\n",
    "        column_data = np.array(column_data).reshape(-1, 1)\n",
    "\n",
    "        column_data = scaler.fit_transform(column_data.reshape(-1, 1))\n",
    "        column_data = column_data.flatten()\n",
    "\n",
    "        for j in range(num_para):\n",
    "            # 在第i个文件第k列的数据中，从正中间截取1段长度为length_para的数据  #\n",
    "            start = (column_data.shape[0] // 2) - (length_para // 2)\n",
    "            end = (column_data.shape[0] // 2) + (length_para // 2)\n",
    "            data_train[i * num_para + j:, k, :] = column_data[start: end]\n",
    "\n",
    "data_train = data_train[:, np.newaxis]"
   ]
  },
  {
   "cell_type": "code",
   "execution_count": null,
   "metadata": {},
   "outputs": [],
   "source": [
    "for data in data_train:\n",
    "    cwtmatrix = np.empty([data.shape[0], totalscale, data.shape[1], data.shape[2]])\n",
    "    for i in range(data.shape[2]):\n",
    "        for j in range(data.shape[1]):\n",
    "            dataset = data[j, :, i]\n",
    "            cwtmatr, frequencies = pywt.cwt(dataset, scales, wavename, 1.0 / sampling_rate)\n",
    "            cwtmatrix[j, :, :, i] = cwtmatr"
   ]
  },
  {
   "cell_type": "code",
   "execution_count": null,
   "metadata": {},
   "outputs": [],
   "source": [
    "sample = data_train[0, 0, 0, :]\n",
    "sample.shape"
   ]
  },
  {
   "cell_type": "code",
   "execution_count": null,
   "metadata": {},
   "outputs": [],
   "source": [
    "cwtmatr, frequencies = pywt.cwt(sample, scales, wavename, 1.0 / sampling_rate)\n",
    "cwtmatr.shape"
   ]
  },
  {
   "cell_type": "code",
   "execution_count": null,
   "metadata": {},
   "outputs": [],
   "source": [
    "plot_cwt(np.arange(1024) / sampling_rate, sample, cwtmatr, frequencies)"
   ]
  },
  {
   "cell_type": "code",
   "execution_count": null,
   "metadata": {},
   "outputs": [],
   "source": [
    "# -*- coding: utf-8 -*-\n",
    "import matplotlib.pyplot as plt\n",
    "import numpy as np\n",
    "import pywt\n",
    "from matplotlib.font_manager import FontProperties\n",
    "\n",
    "\n",
    "sampling_rate = 1024\n",
    "t = np.arange(0, 1.0, 1.0 / sampling_rate)\n",
    "f1 = 100\n",
    "f2 = 200\n",
    "f3 = 300\n",
    "data = np.piecewise(t, [t < 1, t < 0.8, t < 0.3],\n",
    "                    [lambda t: np.sin(2 * np.pi * f1 * t), lambda t: np.sin(2 * np.pi * f2 * t),\n",
    "                     lambda t: np.sin(2 * np.pi * f3 * t)])\n",
    "wavename = 'cgau8'\n",
    "totalscal = 256\n",
    "fc = pywt.central_frequency(wavename)\n",
    "cparam = 2 * fc * totalscal\n",
    "scales = cparam / np.arange(totalscal, 1, -1)\n",
    "[cwtmatr, frequencies] = pywt.cwt(data, scales, wavename, 1.0 / sampling_rate)\n",
    "plt.figure(figsize=(8, 4))\n",
    "plt.subplot(211)\n",
    "plt.plot(t, data)\n",
    "plt.xlabel(u\"time(s)\")\n",
    "plt.title(u\"300Hz 200Hz 100Hz Time spectrum\")\n",
    "plt.subplot(212)\n",
    "plt.contourf(t, frequencies, abs(cwtmatr))\n",
    "plt.ylabel(u\"freq(Hz)\")\n",
    "plt.xlabel(u\"time(s)\")\n",
    "plt.subplots_adjust(hspace=0.4)\n",
    "plt.show()"
   ]
  },
  {
   "cell_type": "code",
   "execution_count": null,
   "metadata": {},
   "outputs": [],
   "source": [
    "data.shape"
   ]
  },
  {
   "cell_type": "code",
   "execution_count": null,
   "metadata": {},
   "outputs": [],
   "source": []
  }
 ],
 "metadata": {
  "interpreter": {
   "hash": "f3aa6331c07ee25bacc791f93f707d5a9245b8fc1ed968ce9ad3ec4728621a3f"
  },
  "kernelspec": {
   "display_name": "Python 3.9.2 64-bit",
   "language": "python",
   "name": "python3"
  },
  "language_info": {
   "codemirror_mode": {
    "name": "ipython",
    "version": 3
   },
   "file_extension": ".py",
   "mimetype": "text/x-python",
   "name": "python",
   "nbconvert_exporter": "python",
   "pygments_lexer": "ipython3",
   "version": "3.9.2"
  },
  "orig_nbformat": 4
 },
 "nbformat": 4,
 "nbformat_minor": 2
}
