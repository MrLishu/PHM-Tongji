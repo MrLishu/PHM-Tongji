{
  "cells": [
    {
      "cell_type": "markdown",
      "metadata": {
        "id": "view-in-github",
        "colab_type": "text"
      },
      "source": [
        "<a href=\"https://colab.research.google.com/github/MrLishu/PHM-Tongji/blob/main/train_drive.ipynb\" target=\"_parent\"><img src=\"https://colab.research.google.com/assets/colab-badge.svg\" alt=\"Open In Colab\"/></a>"
      ]
    },
    {
      "cell_type": "code",
      "execution_count": 7,
      "metadata": {
        "id": "ZWjM8cRka_Pl",
        "outputId": "d9f038dd-9eed-4a77-ecc6-602a1972b5c1",
        "colab": {
          "base_uri": "https://localhost:8080/"
        }
      },
      "outputs": [
        {
          "output_type": "stream",
          "name": "stdout",
          "text": [
            "Drive already mounted at /content/drive; to attempt to forcibly remount, call drive.mount(\"/content/drive\", force_remount=True).\n"
          ]
        }
      ],
      "source": [
        "import os\n",
        "import sys\n",
        "\n",
        "sys.path.append(os.path.join(os.getcwd(), 'Mrlishu'))\n",
        "if os.path.exists('/content'):\n",
        "    os.chdir('/content')\n",
        "    CODE_DIR = 'PHM-Tongji'\n",
        "    if not os.path.exists(CODE_DIR):\n",
        "        !git clone https://github.com/MrLishu/PHM-Tongji.git $CODE_DIR\n",
        "    os.chdir(f'./{CODE_DIR}')\n",
        "\n",
        "    from google.colab import drive\n",
        "    drive.mount('/content/drive')"
      ]
    },
    {
      "cell_type": "code",
      "execution_count": 8,
      "metadata": {
        "id": "oyQJHv-Pa_Pp"
      },
      "outputs": [],
      "source": [
        "import torch\n",
        "import torch.nn as nn\n",
        "from torch.optim import Adam\n",
        "from torch.utils.data import Dataset, DataLoader\n",
        "from torchvision import models, transforms\n",
        "from sklearn.model_selection import train_test_split"
      ]
    },
    {
      "cell_type": "code",
      "execution_count": 4,
      "metadata": {
        "id": "vbDtMJRma_Pq",
        "outputId": "c5e36e46-a6b4-422a-9caa-3a66cd80fb34",
        "colab": {
          "base_uri": "https://localhost:8080/",
          "height": 227
        }
      },
      "outputs": [
        {
          "output_type": "error",
          "ename": "NameError",
          "evalue": "ignored",
          "traceback": [
            "\u001b[0;31m---------------------------------------------------------------------------\u001b[0m",
            "\u001b[0;31mNameError\u001b[0m                                 Traceback (most recent call last)",
            "\u001b[0;32m<ipython-input-4-c0d7018b509a>\u001b[0m in \u001b[0;36m<module>\u001b[0;34m()\u001b[0m\n\u001b[1;32m      3\u001b[0m   \u001b[0mlen\u001b[0m\u001b[0;34m[\u001b[0m\u001b[0;34mf'c{i}'\u001b[0m\u001b[0;34m]\u001b[0m \u001b[0;34m=\u001b[0m \u001b[0;34m[\u001b[0m\u001b[0;34m]\u001b[0m\u001b[0;34m\u001b[0m\u001b[0;34m\u001b[0m\u001b[0m\n\u001b[1;32m      4\u001b[0m   \u001b[0;32mfor\u001b[0m \u001b[0mj\u001b[0m \u001b[0;32min\u001b[0m \u001b[0mrange\u001b[0m\u001b[0;34m(\u001b[0m\u001b[0;36m315\u001b[0m\u001b[0;34m)\u001b[0m\u001b[0;34m:\u001b[0m\u001b[0;34m\u001b[0m\u001b[0;34m\u001b[0m\u001b[0m\n\u001b[0;32m----> 5\u001b[0;31m     \u001b[0mdata\u001b[0m \u001b[0;34m=\u001b[0m \u001b[0mpd\u001b[0m\u001b[0;34m.\u001b[0m\u001b[0mread_csv\u001b[0m\u001b[0;34m(\u001b[0m\u001b[0;34mrf'/content/drive/MyDrive/PHM-Tongji/data/raw/PHM2010/c{i}/c_{i}_{j + 1:03d}.csv'\u001b[0m\u001b[0;34m)\u001b[0m\u001b[0;34m\u001b[0m\u001b[0;34m\u001b[0m\u001b[0m\n\u001b[0m\u001b[1;32m      6\u001b[0m     \u001b[0mlen\u001b[0m\u001b[0;34m[\u001b[0m\u001b[0;34mf'c{i}'\u001b[0m\u001b[0;34m]\u001b[0m\u001b[0;34m.\u001b[0m\u001b[0mappend\u001b[0m\u001b[0;34m(\u001b[0m\u001b[0mdata\u001b[0m\u001b[0;34m.\u001b[0m\u001b[0mshape\u001b[0m\u001b[0;34m[\u001b[0m\u001b[0;36m0\u001b[0m\u001b[0;34m]\u001b[0m\u001b[0;34m)\u001b[0m\u001b[0;34m\u001b[0m\u001b[0;34m\u001b[0m\u001b[0m\n",
            "\u001b[0;31mNameError\u001b[0m: name 'pd' is not defined"
          ]
        }
      ],
      "source": [
        "len = {}\n",
        "for i in (1, 4, 6):\n",
        "  len[f'c{i}'] = []\n",
        "  for j in range(315):\n",
        "    data = pd.read_csv(rf'/content/drive/MyDrive/PHM-Tongji/data/raw/PHM2010/c{i}/c_{i}_{j + 1:03d}.csv')\n",
        "    len[f'c{i}'].append(data.shape[0])"
      ]
    },
    {
      "cell_type": "code",
      "execution_count": 57,
      "metadata": {
        "id": "vpXX0Slma_Pr"
      },
      "outputs": [],
      "source": [
        "import numpy as np\n",
        "import pandas as pd\n",
        "import matplotlib.pyplot as plt\n",
        "import pywt\n",
        "\n",
        "\n",
        "class PHMDataset(Dataset):\n",
        "    def __init__(self, data_path, dataset_name, train=True, data_num=-1, usecols=('Ax', 'Ay', 'Az'), resample_number=1024, step=1, totalscale=256, wavename='morl'):\n",
        "        self.data_path = data_path\n",
        "        self.dataset_name = dataset_name\n",
        "        self.train = train\n",
        "\n",
        "        if data_num > 1:\n",
        "          self.data_num = data_num\n",
        "        else:\n",
        "          self.data_num = 315 * len(dataset_name)\n",
        "        \n",
        "        self.usecols = usecols\n",
        "        self.resample_number = resample_number\n",
        "        self.step = step\n",
        "\n",
        "        self.signal_length = pd.read_csv(os.path.join(data_path, r'processed/PHM2010/signal_length.csv'))\n",
        "        self.labelset = {}\n",
        "        for name in dataset_name:\n",
        "          self.labelset[name] = pd.read_csv(os.path.join(data_path, rf'raw/PHM2010/{name}_wear.csv'))\n",
        "        self.columns = ['Fx', 'Fy', 'Fz', 'Ax', 'Ay', 'Az', 'Null']\n",
        "        sampling_rate = 50000\n",
        "\n",
        "        fc = pywt.central_frequency(wavename)\n",
        "        cparam = 2 * fc * totalscale\n",
        "        self.scales = cparam / np.arange(totalscale, 0, -1)\n",
        "        self.wavename = wavename\n",
        "        self.resample_rate = sampling_rate / step\n",
        "      \n",
        "    def __len__(self):\n",
        "        return self.data_num\n",
        "    \n",
        "    def __getitem__(self, idx):\n",
        "        name = self.dataset_name[idx // 315]\n",
        "        ci = name[1]\n",
        "        i = idx % 315\n",
        "        length = self.signal_length[name][i]\n",
        "\n",
        "        if self.train:\n",
        "            start = np.random.randint(length - self.resample_number * self.step)\n",
        "        else:\n",
        "            start = (length - self.resample_number * self.step) // 2\n",
        "\n",
        "        signal = pd.read_csv(os.path.join(self.data_path, rf'raw/PHM2010/{name}/c_{ci}_{i + 1:03d}.csv'), names=self.columns, usecols=self.usecols, skiprows=start, nrows=self.step * self.resample_number)\n",
        "        resampled = signal.to_numpy().T[:, ::self.step]\n",
        "\n",
        "        resampled -= resampled.mean(axis=-1)[:, np.newaxis]\n",
        "        resampled /= resampled.std(axis=-1)[:, np.newaxis]\n",
        "\n",
        "        cwtmatr, frequencies = pywt.cwt(resampled, self.scales, self.wavename, 1 / self.resample_rate)\n",
        "        cwtmatr = cwtmatr.transpose(1, 0, 2)\n",
        "\n",
        "        # t = np.arange(resampled.shape[1]) / self.resample_rate\n",
        "        # plt.figure(figsize=(8, 4))\n",
        "        # plt.subplot(211)\n",
        "        # plt.plot(t, resampled[-1])\n",
        "        # plt.xlabel(u\"time(s)\")\n",
        "        # plt.title(u\"Time spectrum\")\n",
        "        # plt.subplot(212)\n",
        "        # plt.contourf(t, frequencies, abs(cwtmatr[-1]))\n",
        "        # plt.ylabel(u\"freq(Hz)\")\n",
        "        # plt.xlabel(u\"time(s)\")\n",
        "        # plt.subplots_adjust(hspace=0.4)\n",
        "        # plt.show()\n",
        "\n",
        "        label = self.labelset[name].iloc[i, 1:].mean()\n",
        "        return cwtmatr, label"
      ]
    },
    {
      "cell_type": "code",
      "execution_count": 61,
      "metadata": {
        "id": "V4vR9XMYSy2T"
      },
      "outputs": [],
      "source": [
        "train_dataset = PHMDataset(r'/content/drive/MyDrive/PHM-Tongji/data', ['c1', 'c4'], False)\n",
        "train_dataloader = DataLoader(train_dataset, batch_size=4, shuffle=True, num_workers=2)\n",
        "\n",
        "val_dataset = PHMDataset(r'/content/drive/MyDrive/PHM-Tongji/data', ['c1'], False, 30)\n",
        "val_dataloader = DataLoader(val_dataset, batch_size=4, shuffle=True, num_workers=2)"
      ]
    },
    {
      "cell_type": "code",
      "source": [
        "signal = pd.read_csv(os.path.join(r'/content/drive/MyDrive/PHM-Tongji/data', rf'raw/PHM2010/c1/c_1_001.csv')).iloc[:, 5]\n",
        "signal = signal.to_numpy()\n",
        "l = signal.shape[0]\n",
        "signal = signal[l // 2 - 512:l // 2 + 512]\n",
        "signal.shape\n",
        "plt.figure(figsize=(8, 4))\n",
        "plt.subplot(211)\n",
        "plt.plot(signal)\n",
        "l // 2 - 512"
      ],
      "metadata": {
        "id": "GE42l_SuHA8r",
        "outputId": "b47ba9c5-d245-4bce-cf76-200895661fc7",
        "colab": {
          "base_uri": "https://localhost:8080/",
          "height": 165
        }
      },
      "execution_count": 62,
      "outputs": [
        {
          "output_type": "execute_result",
          "data": {
            "text/plain": [
              "63187"
            ]
          },
          "metadata": {},
          "execution_count": 62
        },
        {
          "output_type": "display_data",
          "data": {
            "image/png": "[encoded data removed]",
            "text/plain": [
              "<Figure size 576x288 with 1 Axes>"
            ]
          },
          "metadata": {
            "needs_background": "light"
          }
        }
      ]
    },
    {
      "cell_type": "code",
      "source": [
        "train_dataset[0]"
      ],
      "metadata": {
        "id": "C1fLd9sFCwLV",
        "outputId": "a28d48f5-1f45-4d72-f5a1-8bbeee789f35",
        "colab": {
          "base_uri": "https://localhost:8080/",
          "height": 1000
        }
      },
      "execution_count": 56,
      "outputs": [
        {
          "output_type": "display_data",
          "data": {
            "image/png": "[encoded data removed]",
            "text/plain": [
              "<Figure size 576x288 with 2 Axes>"
            ]
          },
          "metadata": {
            "needs_background": "light"
          }
        },
        {
          "output_type": "execute_result",
          "data": {
            "text/plain": [
              "(array([[[-0.12572779,  0.05691982,  0.12309706, ...,  0.17089739,\n",
              "          -0.18349835,  0.07907247],\n",
              "         [-0.21393494,  0.16569939,  0.04316161, ...,  0.19156806,\n",
              "          -0.26334918,  0.1854809 ],\n",
              "         [-0.28875265,  0.26075606, -0.03563155, ...,  0.20458167,\n",
              "          -0.32571274,  0.28804035],\n",
              "         ...,\n",
              "         [-0.55906158,  0.58892063,  0.8363297 , ...,  0.78041151,\n",
              "          -1.20755244,  0.25338576],\n",
              "         [ 0.54924599,  1.48713364,  0.53659959, ..., -0.68290817,\n",
              "           1.34936944, -1.56792363],\n",
              "         [ 1.3082976 ,  2.08512354,  0.73917858, ..., -1.10432136,\n",
              "          -2.66896332, -1.67219262]],\n",
              " \n",
              "        [[-0.12728602,  0.06568382,  0.11766066, ...,  0.18346731,\n",
              "          -0.19807261,  0.08416101],\n",
              "         [-0.21258635,  0.17429556,  0.03648673, ...,  0.20863697,\n",
              "          -0.28570633,  0.2010443 ],\n",
              "         [-0.28476259,  0.2676885 , -0.04190652, ...,  0.22498308,\n",
              "          -0.35519549,  0.31334025],\n",
              "         ...,\n",
              "         [-0.27809621,  0.87079477,  1.12781284, ...,  1.62140361,\n",
              "          -0.37178977,  1.05787506],\n",
              "         [ 0.6153271 ,  1.47360276,  0.69481502, ..., -0.63626653,\n",
              "           1.53848   , -1.46367134],\n",
              "         [ 1.82317892,  2.53144134,  1.12532665, ..., -0.44726286,\n",
              "          -1.89681636, -0.82985608]],\n",
              " \n",
              "        [[-0.12743051,  0.04946251,  0.13599232, ...,  0.17616606,\n",
              "          -0.1913856 ,  0.08786438],\n",
              "         [-0.21958678,  0.16238748,  0.05613771, ...,  0.20163769,\n",
              "          -0.27993793,  0.20378455],\n",
              "         [-0.29905255,  0.26075869, -0.02193472, ...,  0.22040181,\n",
              "          -0.34923746,  0.31553783],\n",
              "         ...,\n",
              "         [-0.01325464,  1.1221108 ,  1.37458359, ...,  1.90526862,\n",
              "          -0.08513927,  1.34277849],\n",
              "         [ 0.24787841,  1.14304754,  0.22541342, ..., -0.51454189,\n",
              "           1.63190668, -1.3829448 ],\n",
              "         [ 1.47355059,  2.32930333,  0.90656757, ..., -0.68840951,\n",
              "          -2.14144795, -1.16503906]]]), 39.643518803333336)"
            ]
          },
          "metadata": {},
          "execution_count": 56
        }
      ]
    },
    {
      "cell_type": "code",
      "execution_count": null,
      "metadata": {
        "id": "y7wJrNRdWrYp"
      },
      "outputs": [],
      "source": [
        "data, label = next(iter(train_dataloader))\n",
        "data.shape, label.shape"
      ]
    },
    {
      "cell_type": "code",
      "execution_count": 63,
      "metadata": {
        "id": "q7e9odnTa_Pu"
      },
      "outputs": [],
      "source": [
        "model = models.resnet18(pretrained=False)\n",
        "# model.conv1 = nn.Conv2d(6, 64, kernel_size=(7, 7), stride=(2, 2), padding=(3, 3))\n",
        "model.fc = nn.Linear(in_features=512, out_features=1, bias=True)\n",
        "\n",
        "device = device = torch.device(\"cuda:0\" if torch.cuda.is_available() else \"cpu\")\n",
        "model = model.to(device)\n",
        "\n",
        "criterion = nn.MSELoss()\n",
        "optimizer = Adam(model.parameters(), lr=0.001)\n",
        "scheduler = None\n",
        "\n",
        "num_epochs = 50"
      ]
    },
    {
      "cell_type": "code",
      "execution_count": null,
      "metadata": {
        "id": "0czvo5_va_Pv",
        "outputId": "f65ddbbe-2941-479a-bf3f-93a3b7189c9a",
        "colab": {
          "base_uri": "https://localhost:8080/"
        }
      },
      "outputs": [
        {
          "metadata": {
            "tags": null
          },
          "name": "stdout",
          "output_type": "stream",
          "text": [
            "Epoch 0/49\n",
            "----------\n",
            "Running loss: 581270.161\n"
          ]
        },
        {
          "metadata": {
            "tags": null
          },
          "name": "stderr",
          "output_type": "stream",
          "text": [
            "/usr/local/lib/python3.7/dist-packages/torch/nn/modules/loss.py:520: UserWarning: Using a target size (torch.Size([4])) that is different to the input size (torch.Size([4, 1])). This will likely lead to incorrect results due to broadcasting. Please ensure they have the same size.\n",
            "  return F.mse_loss(input, target, reduction=self.reduction)\n"
          ]
        },
        {
          "metadata": {
            "tags": null
          },
          "name": "stdout",
          "output_type": "stream",
          "text": [
            "Val loss: 2059.287\n",
            "Error mean: 13.323\n",
            "Error std: 11.476\n",
            "\n",
            "Epoch 1/49\n",
            "----------\n"
          ]
        },
        {
          "metadata": {
            "tags": null
          },
          "name": "stderr",
          "output_type": "stream",
          "text": [
            "/usr/local/lib/python3.7/dist-packages/torch/nn/modules/loss.py:520: UserWarning: Using a target size (torch.Size([2])) that is different to the input size (torch.Size([2, 1])). This will likely lead to incorrect results due to broadcasting. Please ensure they have the same size.\n",
            "  return F.mse_loss(input, target, reduction=self.reduction)\n"
          ]
        },
        {
          "output_type": "stream",
          "name": "stdout",
          "text": [
            "Running loss: 53643.058\n",
            "Val loss: 1918.673\n",
            "Error mean: 12.299\n",
            "Error std: 11.924\n",
            "\n",
            "Epoch 2/49\n",
            "----------\n",
            "Running loss: 36713.011\n",
            "Val loss: 1042.294\n",
            "Error mean: 9.292\n",
            "Error std: 11.513\n",
            "\n",
            "Epoch 3/49\n",
            "----------\n",
            "Running loss: 18530.816\n",
            "Val loss: 1293.708\n",
            "Error mean: 11.212\n",
            "Error std: 12.397\n",
            "\n",
            "Epoch 4/49\n",
            "----------\n",
            "Running loss: 16427.308\n",
            "Val loss: 1215.311\n",
            "Error mean: 10.163\n",
            "Error std: 11.888\n",
            "\n",
            "Epoch 5/49\n",
            "----------\n",
            "Running loss: 10012.731\n",
            "Val loss: 2050.353\n",
            "Error mean: 13.105\n",
            "Error std: 11.374\n",
            "\n",
            "Epoch 6/49\n",
            "----------\n",
            "Running loss: 10959.402\n",
            "Val loss: 1666.946\n",
            "Error mean: 11.725\n",
            "Error std: 13.194\n",
            "\n",
            "Epoch 7/49\n",
            "----------\n",
            "Running loss: 7088.088\n",
            "Val loss: 1720.506\n",
            "Error mean: 11.166\n",
            "Error std: 12.998\n",
            "\n",
            "Epoch 8/49\n",
            "----------\n",
            "Running loss: 10041.566\n",
            "Val loss: 1339.247\n",
            "Error mean: 10.596\n",
            "Error std: 11.922\n",
            "\n",
            "Epoch 9/49\n",
            "----------\n",
            "Running loss: 8342.149\n",
            "Val loss: 1550.492\n",
            "Error mean: 10.191\n",
            "Error std: 12.693\n",
            "\n",
            "Epoch 10/49\n",
            "----------\n",
            "Running loss: 6316.538\n",
            "Val loss: 1375.010\n",
            "Error mean: 9.304\n",
            "Error std: 12.116\n",
            "\n",
            "Epoch 11/49\n",
            "----------\n",
            "Running loss: 6089.768\n",
            "Val loss: 1244.999\n",
            "Error mean: 9.762\n",
            "Error std: 12.657\n",
            "\n",
            "Epoch 12/49\n",
            "----------\n",
            "Running loss: 4971.960\n",
            "Val loss: 1634.204\n",
            "Error mean: 11.137\n",
            "Error std: 13.260\n",
            "\n",
            "Epoch 13/49\n",
            "----------\n",
            "Running loss: 4065.616\n",
            "Val loss: 1673.642\n",
            "Error mean: 11.377\n",
            "Error std: 13.918\n",
            "\n",
            "Epoch 14/49\n",
            "----------\n",
            "Running loss: 3972.050\n",
            "Val loss: 1175.765\n",
            "Error mean: 9.282\n",
            "Error std: 12.617\n",
            "\n",
            "Epoch 15/49\n",
            "----------\n",
            "Running loss: 3712.969\n",
            "Val loss: 2120.267\n",
            "Error mean: 12.916\n",
            "Error std: 14.892\n",
            "\n",
            "Epoch 16/49\n",
            "----------\n",
            "Running loss: 4393.212\n",
            "Val loss: 1408.586\n",
            "Error mean: 10.039\n",
            "Error std: 13.539\n",
            "\n",
            "Epoch 17/49\n",
            "----------\n",
            "Running loss: 4017.849\n",
            "Val loss: 1162.174\n",
            "Error mean: 9.282\n",
            "Error std: 12.011\n",
            "\n",
            "Epoch 18/49\n",
            "----------\n"
          ]
        }
      ],
      "source": [
        "loss_table = []\n",
        "\n",
        "for epoch in range(num_epochs):\n",
        "    print('Epoch {}/{}'.format(epoch, num_epochs - 1))\n",
        "    print('-' * 10)\n",
        "\n",
        "    running_loss = 0.0\n",
        "\n",
        "    # Iterate over data.\n",
        "    for step, (inputs, labels) in enumerate(train_dataloader):\n",
        "        model.train()\n",
        "        inputs = inputs.float().to(device)\n",
        "        labels = labels.float().to(device)\n",
        "\n",
        "        optimizer.zero_grad()\n",
        "\n",
        "        outputs = model(inputs)\n",
        "        loss = criterion(outputs, labels[:, np.newaxis])\n",
        "\n",
        "        loss.backward()\n",
        "        optimizer.step()\n",
        "\n",
        "        running_loss += loss.item()\n",
        "    \n",
        "    loss_table.append(running_loss)\n",
        "    print(f'Running loss: {running_loss:.3f}')\n",
        "    \n",
        "    val_loss = 0.0\n",
        "    error_table = []\n",
        "    for inputs, labels in val_dataloader:\n",
        "        model.eval()\n",
        "        inputs = inputs.float().to(device)\n",
        "        labels = labels.float().to(device)\n",
        "\n",
        "        outputs = model(inputs)\n",
        "        loss = criterion(outputs, labels)\n",
        "\n",
        "        val_loss += loss.item()\n",
        "\n",
        "        error_table += (outputs - labels).flatten().detach().cpu().numpy().tolist()\n",
        "    \n",
        "    print(f'Val loss: {val_loss:.3f}')\n",
        "    print(f'Error mean: {np.abs(error_table).mean():.3f}')\n",
        "    print(f'Error std: {np.array(error_table).std():.3f}')\n",
        "    print()\n"
      ]
    },
    {
      "cell_type": "code",
      "source": [
        "model.eval()\n",
        "\n",
        "test_epochs = 10\n",
        "\n",
        "test_dataset = PHMDataset(r'/content/drive/MyDrive/PHM-Tongji/data', ['c6'])\n",
        "test_dataloader = DataLoader(test_dataset, batch_size=4, num_workers=2)\n",
        "\n",
        "label_table = []\n",
        "predict_table = []\n",
        "\n",
        "for epoch in range(test_epochs):\n",
        "  print('Epoch {}/{}'.format(epoch, test_epochs - 1))\n",
        "  print('-' * 10)\n",
        "\n",
        "  label_table.append([])\n",
        "  predict_table.append([])\n",
        "\n",
        "  for inputs, labels in test_dataloader:\n",
        "    inputs = inputs.float().to(device)\n",
        "    labels = labels.float().to(device)\n",
        "\n",
        "    outputs = model(inputs)\n",
        "\n",
        "    label_table[-1] += labels.flatten().cpu().numpy().tolist()\n",
        "    predict_table[-1] += outputs.flatten().cpu().detach().numpy().tolist()\n",
        "\n",
        "labels = np.array(label_table)\n",
        "predicted = np.array(predict_table)"
      ],
      "metadata": {
        "id": "H-kzF4RTdv8j",
        "outputId": "53c5697f-6885-4886-ca99-7e7aec418797",
        "colab": {
          "base_uri": "https://localhost:8080/"
        }
      },
      "execution_count": 22,
      "outputs": [
        {
          "output_type": "stream",
          "name": "stdout",
          "text": [
            "Epoch 0/9\n",
            "----------\n",
            "Epoch 1/9\n",
            "----------\n",
            "Epoch 2/9\n",
            "----------\n",
            "Epoch 3/9\n",
            "----------\n",
            "Epoch 4/9\n",
            "----------\n",
            "Epoch 5/9\n",
            "----------\n",
            "Epoch 6/9\n",
            "----------\n",
            "Epoch 7/9\n",
            "----------\n",
            "Epoch 8/9\n",
            "----------\n",
            "Epoch 9/9\n",
            "----------\n"
          ]
        }
      ]
    },
    {
      "cell_type": "code",
      "source": [
        "predicted.shape"
      ],
      "metadata": {
        "id": "udVllqNEkgLc",
        "outputId": "0cbe1e8e-2657-4a14-9584-bda21cf942de",
        "colab": {
          "base_uri": "https://localhost:8080/"
        }
      },
      "execution_count": 23,
      "outputs": [
        {
          "output_type": "execute_result",
          "data": {
            "text/plain": [
              "(10, 315)"
            ]
          },
          "metadata": {},
          "execution_count": 23
        }
      ]
    },
    {
      "cell_type": "code",
      "source": [
        "predicted.mean(axis=0)"
      ],
      "metadata": {
        "id": "0tV-2K9D3Str",
        "outputId": "f7b5faf7-4c28-4fc0-cf7c-0259df853521",
        "colab": {
          "base_uri": "https://localhost:8080/"
        }
      },
      "execution_count": 28,
      "outputs": [
        {
          "output_type": "execute_result",
          "data": {
            "text/plain": [
              "array([ 70.7268158 , 120.43048782, 123.69195557, 122.329422  ,\n",
              "       114.03473892, 124.28985748, 124.66302032, 136.39682541,\n",
              "       127.21336823, 137.35930023, 127.73474197, 117.78426056,\n",
              "       132.60305328, 131.17757416, 132.07297287, 131.87752533,\n",
              "       131.68665848, 131.84071808, 134.88467407, 142.42751617,\n",
              "       127.91921616, 137.17612228, 134.54283829, 140.44174271,\n",
              "       130.60260468, 138.30974426, 138.89041901, 137.66562347,\n",
              "       127.73922958, 142.32822113, 136.28320465, 142.02997742,\n",
              "       136.32817459, 142.09672699, 128.78698959, 143.71660156,\n",
              "       138.89778824, 135.11018982, 141.46215057, 130.94839478,\n",
              "       134.54497681, 142.30085907, 143.34087448, 144.77459106,\n",
              "       139.04930878, 137.96629486, 140.75160446, 144.75423203,\n",
              "       144.52172928, 145.92323532, 138.93939819, 132.71750259,\n",
              "       137.68190765, 137.20468445, 140.46499786, 138.259272  ,\n",
              "       143.83314819, 137.65720444, 142.72806854, 145.83597412,\n",
              "       133.91816025, 133.96077881, 138.43012619, 137.85825195,\n",
              "       139.27860107, 137.22143707, 138.20840988, 141.02849731,\n",
              "       141.12058182, 141.65160141, 137.40920258, 141.74376984,\n",
              "       145.46724167, 142.77522125, 125.62050095, 142.74536133,\n",
              "       139.72847977, 126.05946198, 137.26540298, 147.61399841,\n",
              "       139.25649872, 143.58528976, 136.88680038, 141.80531998,\n",
              "       137.89788895, 142.09692993, 138.52470093, 144.4193306 ,\n",
              "       143.10792847, 144.44570541, 142.24880295, 145.86555099,\n",
              "       148.82610016, 140.19274445, 143.51772995, 143.25198593,\n",
              "       147.7999176 , 146.73293457, 150.34634247, 152.96255646,\n",
              "       145.99066467, 146.02536621, 147.7366745 , 145.37540131,\n",
              "       138.79387817, 153.65226135, 141.44827271, 144.39213257,\n",
              "       150.89518738, 153.04945221, 145.65422363, 144.43943176,\n",
              "       147.83596954, 146.64608307, 149.61201324, 155.15540009,\n",
              "       144.47686462, 147.02879944, 145.84980316, 145.40933151,\n",
              "       153.57750702, 151.73641205, 143.44324417, 144.19733734,\n",
              "       144.76443634, 159.31251373, 147.2283371 , 146.61703949,\n",
              "       147.41089935, 144.94819183, 151.08651581, 147.31720123,\n",
              "       145.41187592, 142.63194656, 137.61715012, 145.67154388,\n",
              "       147.69989929, 141.33448486, 143.65743256, 152.96867371,\n",
              "       137.90661697, 137.34369507, 139.35316696, 143.51421509,\n",
              "       151.83176575, 145.30331573, 147.18388977, 144.59503555,\n",
              "       142.2133606 , 137.7804985 , 146.38146973, 153.2046814 ,\n",
              "       150.88575439, 153.33273315, 138.79603271, 144.81433716,\n",
              "       142.82147217, 148.86535339, 136.78384018, 143.49175415,\n",
              "       148.78657684, 143.58163681, 156.00258179, 148.06630096,\n",
              "       146.80539551, 150.3601532 , 140.80803528, 142.6331604 ,\n",
              "       146.02656708, 145.68193207, 148.63517303, 156.74792328,\n",
              "       148.82875366, 148.5165329 , 145.26406097, 153.10491486,\n",
              "       149.77392273, 148.60629578, 155.38865051, 145.30494537,\n",
              "       153.44220276, 136.59286346, 155.75853882, 144.41506653,\n",
              "       141.35084839, 145.21718292, 149.01286163, 150.83566437,\n",
              "       142.73127441, 146.17108612, 147.17260284, 143.93677063,\n",
              "       147.14426422, 144.92643433, 146.04779053, 151.4572525 ,\n",
              "       143.44264984, 147.9643219 , 147.64077759, 148.2858139 ,\n",
              "       153.76335754, 143.45345917, 141.78706818, 142.72085419,\n",
              "       142.77713623, 145.77310638, 145.21049194, 147.72777557,\n",
              "       148.23352509, 150.58610535, 146.58868713, 148.33169098,\n",
              "       144.93154297, 149.51448669, 139.00240631, 145.44753113,\n",
              "       143.31572266, 146.59125061, 143.24930267, 145.97306671,\n",
              "       139.56192474, 152.20487976, 143.65961304, 151.03360443,\n",
              "       148.25606689, 142.10814819, 147.09286194, 141.37783356,\n",
              "       151.82992859, 150.37497559, 141.52475128, 141.95764465,\n",
              "       144.59199982, 144.31452179, 145.39798279, 148.65218964,\n",
              "       143.80233917, 145.22849274, 143.47151337, 148.05540924,\n",
              "       143.13114929, 144.4789032 , 143.43990173, 149.30071869,\n",
              "       146.29454651, 142.60015717, 146.53946686, 146.6606781 ,\n",
              "       138.29624329, 138.92082825, 143.01008911, 145.57361145,\n",
              "       141.32234344, 143.81012421, 141.15083923, 141.03110657,\n",
              "       142.71479797, 141.30605164, 143.06371613, 142.25083313,\n",
              "       141.38409576, 150.98881226, 138.99557648, 142.40417633,\n",
              "       139.31767578, 142.03516083, 143.08684082, 142.25273895,\n",
              "       137.62097626, 145.31580353, 135.09540558, 141.61056976,\n",
              "       145.51307068, 140.82958374, 141.73748322, 137.83438873,\n",
              "       141.77262878, 144.1811142 , 138.71980896, 142.26324158,\n",
              "       141.28625565, 137.32286072, 142.7115509 , 140.46859131,\n",
              "       139.31100159, 143.86911621, 141.79236374, 144.39970245,\n",
              "       139.55403442, 139.42154541, 143.84293823, 142.78175812,\n",
              "       141.70812988, 146.92242279, 142.21595459, 142.81340179,\n",
              "       141.74580536, 147.60540619, 143.65624237, 145.63781891,\n",
              "       144.58888397, 139.271698  , 142.48705139, 137.76174469,\n",
              "       143.60199738, 143.55949249, 142.40680084, 141.21921692,\n",
              "       139.8901886 , 141.30907898, 151.1179657 , 141.29934998,\n",
              "       140.82285919, 148.74379883, 147.16298523])"
            ]
          },
          "metadata": {},
          "execution_count": 28
        }
      ]
    },
    {
      "cell_type": "code",
      "source": [
        "import matplotlib.pyplot as plt\n",
        "\n",
        "plt.plot(loss_table[5:])"
      ],
      "metadata": {
        "id": "ptjjGyD03qp5",
        "outputId": "64c96653-8bbd-4644-ed17-0aae184af380",
        "colab": {
          "base_uri": "https://localhost:8080/",
          "height": 283
        }
      },
      "execution_count": 31,
      "outputs": [
        {
          "output_type": "execute_result",
          "data": {
            "text/plain": [
              "[<matplotlib.lines.Line2D at 0x7f84e9eb2e10>]"
            ]
          },
          "metadata": {},
          "execution_count": 31
        },
        {
          "output_type": "display_data",
          "data": {
            "image/png": "[encoded data removed]",
            "text/plain": [
              "<Figure size 432x288 with 1 Axes>"
            ]
          },
          "metadata": {
            "needs_background": "light"
          }
        }
      ]
    },
    {
      "cell_type": "code",
      "source": [
        "import matplotlib.pyplot as plt\n",
        "\n",
        "plt.plot(np.arange(len(labels[0])), labels[0], label='label')\n",
        "plt.plot(np.arange(len(labels[0])), predicted.mean(axis=0), label='predicted')\n",
        "plt.legend()"
      ],
      "metadata": {
        "id": "Vtc5DyIy5Cxd",
        "outputId": "48952a61-2804-4902-faf0-cdde7d791a15",
        "colab": {
          "base_uri": "https://localhost:8080/",
          "height": 287
        }
      },
      "execution_count": 39,
      "outputs": [
        {
          "output_type": "execute_result",
          "data": {
            "text/plain": [
              "<matplotlib.legend.Legend at 0x7f84e9df1890>"
            ]
          },
          "metadata": {},
          "execution_count": 39
        },
        {
          "output_type": "display_data",
          "data": {
            "image/png": "[encoded data removed]",
            "text/plain": [
              "<Figure size 432x288 with 1 Axes>"
            ]
          },
          "metadata": {
            "needs_background": "light"
          }
        }
      ]
    },
    {
      "cell_type": "code",
      "source": [
        ""
      ],
      "metadata": {
        "id": "zHa4rwVX6Xai"
      },
      "execution_count": null,
      "outputs": []
    }
  ],
  "metadata": {
    "language_info": {
      "name": "python"
    },
    "orig_nbformat": 4,
    "colab": {
      "name": "train_drive.ipynb",
      "provenance": [],
      "include_colab_link": true
    },
    "accelerator": "GPU",
    "kernelspec": {
      "name": "python3",
      "display_name": "Python 3"
    }
  },
  "nbformat": 4,
  "nbformat_minor": 0
}