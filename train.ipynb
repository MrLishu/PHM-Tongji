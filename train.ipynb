{
  "nbformat": 4,
  "nbformat_minor": 0,
  "metadata": {
    "interpreter": {
      "hash": "f3aa6331c07ee25bacc791f93f707d5a9245b8fc1ed968ce9ad3ec4728621a3f"
    },
    "kernelspec": {
      "name": "python3",
      "display_name": "Python 3.7.12 64-bit"
    },
    "language_info": {
      "codemirror_mode": {
        "name": "ipython",
        "version": 3
      },
      "file_extension": ".py",
      "mimetype": "text/x-python",
      "name": "python",
      "nbconvert_exporter": "python",
      "pygments_lexer": "ipython3",
      "version": "3.7.12"
    },
    "orig_nbformat": 4,
    "colab": {
      "name": "train.ipynb",
      "provenance": [],
      "include_colab_link": true
    },
    "accelerator": "GPU"
  },
  "cells": [
    {
      "cell_type": "markdown",
      "metadata": {
        "id": "view-in-github",
        "colab_type": "text"
      },
      "source": [
        "<a href=\"https://colab.research.google.com/github/MrLishu/PHM-Tongji/blob/main/train.ipynb\" target=\"_parent\"><img src=\"https://colab.research.google.com/assets/colab-badge.svg\" alt=\"Open In Colab\"/></a>"
      ]
    },
    {
      "cell_type": "code",
      "metadata": {
        "id": "J6hBoMn-HQj1",
        "outputId": "c875a3a3-d9cf-48c5-e7d7-a34a3f79db19",
        "colab": {
          "base_uri": "https://localhost:8080/"
        }
      },
      "source": [
        "import os\n",
        "import sys\n",
        "\n",
        "sys.path.append(os.path.join(os.getcwd(), 'Mrlishu'))\n",
        "if os.path.exists('/content'):\n",
        "    os.chdir('/content')\n",
        "    CODE_DIR = 'PHM-Tongji'\n",
        "    if not os.path.exists(CODE_DIR):\n",
        "        !git clone https://github.com/MrLishu/PHM-Tongji.git $CODE_DIR\n",
        "    os.chdir(f'./{CODE_DIR}')\n",
        "\n",
        "    # !git config --global user.email \"2601165031@qq.com\"\n",
        "    # !git config --global user.name \"MrLishu\"\n",
        "\n",
        "    # !pip install colabcode\n",
        "    # from colabcode import ColabCode\n",
        "    # ColabCode(port=10000)\n"
      ],
      "execution_count": 1,
      "outputs": [
        {
          "output_type": "stream",
          "name": "stdout",
          "text": [
            "Cloning into 'PHM-Tongji'...\n",
            "remote: Enumerating objects: 113, done.\u001b[K\n",
            "remote: Counting objects: 100% (113/113), done.\u001b[K\n",
            "remote: Compressing objects: 100% (76/76), done.\u001b[K\n",
            "remote: Total 113 (delta 45), reused 93 (delta 25), pack-reused 0\u001b[K\n",
            "Receiving objects: 100% (113/113), 41.62 MiB | 21.56 MiB/s, done.\n",
            "Resolving deltas: 100% (45/45), done.\n"
          ]
        }
      ]
    },
    {
      "cell_type": "code",
      "metadata": {
        "id": "PN1LiMg3HQj3",
        "outputId": "7ba26bc9-666c-4d2f-9a97-98b953751ec7",
        "colab": {
          "base_uri": "https://localhost:8080/"
        }
      },
      "source": [
        "import numpy as np\n",
        "from preprocess import cwt\n",
        "\n",
        "\n",
        "raw_data_directory = r'data/raw/PHM2010'\n",
        "processed_data_directory = r'data/processed/PHM2010'\n",
        "\n",
        "sampling_rate=50000\n",
        "\n",
        "resample_number=1024\n",
        "step=1\n",
        "\n",
        "totalscale=256\n",
        "wavename='morl'\n",
        "\n",
        "c1_resample = np.load(r'data/processed/PHM2010/c1_1024_resample.npy')\n",
        "c1_label = np.load(r'data/processed/PHM2010/c1_label.npy')\n",
        "rs_rate = sampling_rate\n",
        "c1_cwt = cwt(c1_resample, rs_rate, totalscale=totalscale, wavename=wavename, save=False)\n"
      ],
      "execution_count": 2,
      "outputs": [
        {
          "output_type": "stream",
          "name": "stdout",
          "text": [
            "Continuous wavelet transform... (315/315)\n",
            "Continuous wavelet transform completed.\n"
          ]
        }
      ]
    },
    {
      "cell_type": "code",
      "metadata": {
        "id": "iwk8S1uSHQj4"
      },
      "source": [
        "import torch\n",
        "import torch.nn as nn\n",
        "from torch.optim import Adam\n",
        "from torch.utils.data import Dataset, DataLoader\n",
        "from torchvision import models, transforms\n",
        "from sklearn.model_selection import train_test_split"
      ],
      "execution_count": 4,
      "outputs": []
    },
    {
      "cell_type": "code",
      "metadata": {
        "id": "-1rf0U7UHQj5"
      },
      "source": [
        "class MyDataset(Dataset):\n",
        "    def __init__(self, data, label):\n",
        "        self.data = data\n",
        "        self.label = label\n",
        "\n",
        "    def __len__(self):\n",
        "        return self.data.shape[0]\n",
        "    \n",
        "    def __getitem__(self, index):\n",
        "        return self.data[index], self.label[index]"
      ],
      "execution_count": 5,
      "outputs": []
    },
    {
      "cell_type": "code",
      "metadata": {
        "id": "HPz0G-p7HQj6"
      },
      "source": [
        "x_train, x_test, y_train, y_test = train_test_split(c1_cwt[:, 3:6], c1_label[:, 1:].mean(axis=-1)[:, np.newaxis], test_size=0.1, random_state=99)\n",
        "train_dataset = MyDataset(x_train, y_train)\n",
        "test_dataset = MyDataset(x_test, y_test)\n",
        "train_dataloader = DataLoader(train_dataset, batch_size=4, shuffle=True)\n",
        "test_dataloader = DataLoader(test_dataset, batch_size=4)"
      ],
      "execution_count": 19,
      "outputs": []
    },
    {
      "cell_type": "code",
      "metadata": {
        "id": "BnoXSHQCHQj6"
      },
      "source": [
        "model = models.resnet18(pretrained=False)\n",
        "# model.conv1 = nn.Conv2d(6, 64, kernel_size=(7, 7), stride=(2, 2), padding=(3, 3))\n",
        "model.fc = nn.Linear(in_features=512, out_features=1, bias=True)"
      ],
      "execution_count": 20,
      "outputs": []
    },
    {
      "cell_type": "code",
      "metadata": {
        "id": "CqSLaGXtHQj7",
        "outputId": "652e5f8f-7bd8-4ae6-e267-893eb4ec5e2e",
        "colab": {
          "base_uri": "https://localhost:8080/"
        }
      },
      "source": [
        "data, label = next(iter(train_dataloader))\n",
        "data.shape, label.shape"
      ],
      "execution_count": 21,
      "outputs": [
        {
          "output_type": "execute_result",
          "data": {
            "text/plain": [
              "(torch.Size([4, 3, 256, 1024]), torch.Size([4, 1]))"
            ]
          },
          "metadata": {},
          "execution_count": 21
        }
      ]
    },
    {
      "cell_type": "code",
      "metadata": {
        "id": "h5Dm_im8HQj8"
      },
      "source": [
        "device = device = torch.device(\"cuda:0\" if torch.cuda.is_available() else \"cpu\")\n",
        "model = model.to(device)\n",
        "\n",
        "criterion = nn.MSELoss()\n",
        "optimizer = Adam(model.parameters(), lr=0.001)\n",
        "scheduler = None\n",
        "num_epochs = 25"
      ],
      "execution_count": 22,
      "outputs": []
    },
    {
      "cell_type": "code",
      "metadata": {
        "id": "EA4ZDoaSHQj9",
        "outputId": "44b1bfd2-87e4-4b30-f018-fb4b4a984543",
        "colab": {
          "base_uri": "https://localhost:8080/"
        }
      },
      "source": [
        "model.train()\n",
        "loss_table = []\n",
        "\n",
        "for epoch in range(num_epochs):\n",
        "    print('Epoch {}/{}'.format(epoch, num_epochs - 1))\n",
        "    print('-' * 10)\n",
        "\n",
        "    running_loss = 0.0\n",
        "\n",
        "    # Iterate over data.\n",
        "    for inputs, labels in train_dataloader:\n",
        "        inputs = inputs.float().to(device)\n",
        "        labels = labels.float().to(device)\n",
        "\n",
        "        optimizer.zero_grad()\n",
        "\n",
        "        outputs = model(inputs)\n",
        "        loss = criterion(outputs, labels)\n",
        "\n",
        "        loss.backward()\n",
        "        optimizer.step()\n",
        "\n",
        "        running_loss += loss.item()\n",
        "      \n",
        "    loss_table.append(running_loss)\n",
        "    print(f'Running loss: {running_loss:.3f}')\n"
      ],
      "execution_count": 23,
      "outputs": [
        {
          "output_type": "stream",
          "name": "stdout",
          "text": [
            "Epoch 0/24\n",
            "----------\n",
            "Running loss: 528422.404\n",
            "Epoch 1/24\n",
            "----------\n",
            "Running loss: 79456.736\n",
            "Epoch 2/24\n",
            "----------\n",
            "Running loss: 19366.237\n",
            "Epoch 3/24\n",
            "----------\n",
            "Running loss: 10858.281\n",
            "Epoch 4/24\n",
            "----------\n",
            "Running loss: 7701.055\n",
            "Epoch 5/24\n",
            "----------\n",
            "Running loss: 7593.939\n",
            "Epoch 6/24\n",
            "----------\n",
            "Running loss: 7357.039\n",
            "Epoch 7/24\n",
            "----------\n",
            "Running loss: 5195.502\n",
            "Epoch 8/24\n",
            "----------\n",
            "Running loss: 3610.122\n",
            "Epoch 9/24\n",
            "----------\n",
            "Running loss: 2873.862\n",
            "Epoch 10/24\n",
            "----------\n",
            "Running loss: 3158.593\n",
            "Epoch 11/24\n",
            "----------\n",
            "Running loss: 3645.774\n",
            "Epoch 12/24\n",
            "----------\n",
            "Running loss: 2605.139\n",
            "Epoch 13/24\n",
            "----------\n",
            "Running loss: 2106.493\n",
            "Epoch 14/24\n",
            "----------\n",
            "Running loss: 1697.635\n",
            "Epoch 15/24\n",
            "----------\n",
            "Running loss: 2229.811\n",
            "Epoch 16/24\n",
            "----------\n",
            "Running loss: 1217.788\n",
            "Epoch 17/24\n",
            "----------\n",
            "Running loss: 994.106\n",
            "Epoch 18/24\n",
            "----------\n",
            "Running loss: 1532.105\n",
            "Epoch 19/24\n",
            "----------\n",
            "Running loss: 1499.198\n",
            "Epoch 20/24\n",
            "----------\n",
            "Running loss: 1094.010\n",
            "Epoch 21/24\n",
            "----------\n",
            "Running loss: 864.190\n",
            "Epoch 22/24\n",
            "----------\n",
            "Running loss: 1357.737\n",
            "Epoch 23/24\n",
            "----------\n",
            "Running loss: 893.232\n",
            "Epoch 24/24\n",
            "----------\n",
            "Running loss: 1146.516\n"
          ]
        }
      ]
    },
    {
      "cell_type": "code",
      "metadata": {
        "id": "9NoNOtvoh7gh",
        "outputId": "47d3d237-430f-4377-f6d9-b8e397df84d7",
        "colab": {
          "base_uri": "https://localhost:8080/",
          "height": 283
        }
      },
      "source": [
        "import matplotlib.pyplot as plt\n",
        "\n",
        "plt.plot(loss_table)"
      ],
      "execution_count": 24,
      "outputs": [
        {
          "output_type": "execute_result",
          "data": {
            "text/plain": [
              "[<matplotlib.lines.Line2D at 0x7f0c1189e390>]"
            ]
          },
          "metadata": {},
          "execution_count": 24
        },
        {
          "output_type": "display_data",
          "data": {
            "image/png": "[encoded data removed]",
            "text/plain": [
              "<Figure size 432x288 with 1 Axes>"
            ]
          },
          "metadata": {
            "needs_background": "light"
          }
        }
      ]
    },
    {
      "cell_type": "code",
      "metadata": {
        "id": "BcNwP8kCiBuG"
      },
      "source": [
        "model.eval()\n",
        "\n",
        "label_table = []\n",
        "predict_table = []\n",
        "\n",
        "for inputs, labels in train_dataloader:\n",
        "  inputs = inputs.float().to(device)\n",
        "  labels = labels.float().to(device)\n",
        "\n",
        "  outputs = model(inputs)\n",
        "\n",
        "  label_table += labels.flatten().cpu().numpy().tolist()\n",
        "  predict_table += outputs.flatten().cpu().detach().numpy().tolist()"
      ],
      "execution_count": 39,
      "outputs": []
    },
    {
      "cell_type": "code",
      "metadata": {
        "id": "gUmOxNKAkwPv",
        "outputId": "2aafeca2-0e82-41d0-c1ed-387c5c6fa7cc",
        "colab": {
          "base_uri": "https://localhost:8080/",
          "height": 283
        }
      },
      "source": [
        "plt.plot(np.arange(len(label_table)), label_table, label='label')\n",
        "plt.plot(np.arange(len(label_table)), predict_table, label='predicted')\n",
        "plt.legend()"
      ],
      "execution_count": 40,
      "outputs": [
        {
          "output_type": "execute_result",
          "data": {
            "text/plain": [
              "<matplotlib.legend.Legend at 0x7f0c110dcf90>"
            ]
          },
          "metadata": {},
          "execution_count": 40
        },
        {
          "output_type": "display_data",
          "data": {
            "image/png": "[encoded data removed]",
            "text/plain": [
              "<Figure size 432x288 with 1 Axes>"
            ]
          },
          "metadata": {
            "needs_background": "light"
          }
        }
      ]
    },
    {
      "cell_type": "code",
      "metadata": {
        "id": "2CULZzZCkBZI",
        "outputId": "4fdec2f9-65db-4832-832c-0cbe6ff813d5",
        "colab": {
          "base_uri": "https://localhost:8080/",
          "height": 358
        }
      },
      "source": [
        "plt.hist(np.array(label_table) - np.array(predict_table))"
      ],
      "execution_count": 42,
      "outputs": [
        {
          "output_type": "execute_result",
          "data": {
            "text/plain": [
              "(array([  1.,   0.,   0.,   1.,  29., 115.,  73.,  34.,  23.,   7.]),\n",
              " array([-11.77549362,  -9.44236488,  -7.10923615,  -4.77610741,\n",
              "         -2.44297867,  -0.10984993,   2.22327881,   4.55640755,\n",
              "          6.88953629,   9.22266502,  11.55579376]),\n",
              " <a list of 10 Patch objects>)"
            ]
          },
          "metadata": {},
          "execution_count": 42
        },
        {
          "output_type": "display_data",
          "data": {
            "image/png": "[encoded data removed]",
            "text/plain": [
              "<Figure size 432x288 with 1 Axes>"
            ]
          },
          "metadata": {
            "needs_background": "light"
          }
        }
      ]
    },
    {
      "cell_type": "code",
      "metadata": {
        "id": "Y5676ZJbubkk",
        "outputId": "17a29ba4-8e72-4a80-a4f5-abadf88c74c1",
        "colab": {
          "base_uri": "https://localhost:8080/",
          "height": 355
        }
      },
      "source": [
        "plt.hist((np.array(label_table) - np.array(predict_table)) / np.array(label_table))"
      ],
      "execution_count": 43,
      "outputs": [
        {
          "output_type": "execute_result",
          "data": {
            "text/plain": [
              "(array([  1.,   0.,   0.,   0.,   0.,   2., 166.,  76.,  29.,   9.]),\n",
              " array([-0.29703451, -0.25098198, -0.20492944, -0.15887691, -0.11282437,\n",
              "        -0.06677184, -0.02071931,  0.02533323,  0.07138576,  0.1174383 ,\n",
              "         0.16349083]),\n",
              " <a list of 10 Patch objects>)"
            ]
          },
          "metadata": {},
          "execution_count": 43
        },
        {
          "output_type": "display_data",
          "data": {
            "image/png": "[encoded data removed]",
            "text/plain": [
              "<Figure size 432x288 with 1 Axes>"
            ]
          },
          "metadata": {
            "needs_background": "light"
          }
        }
      ]
    },
    {
      "cell_type": "code",
      "metadata": {
        "id": "1Mhnw8YOu4_H",
        "outputId": "1928cbf9-fb6a-40be-d148-149f5dd1c5b7",
        "colab": {
          "base_uri": "https://localhost:8080/"
        }
      },
      "source": [
        "(np.array(label_table) - np.array(predict_table)).std()"
      ],
      "execution_count": 44,
      "outputs": [
        {
          "output_type": "execute_result",
          "data": {
            "text/plain": [
              "2.8655222841003485"
            ]
          },
          "metadata": {},
          "execution_count": 44
        }
      ]
    },
    {
      "cell_type": "code",
      "metadata": {
        "id": "sm-0eO5UvIP0"
      },
      "source": [
        ""
      ],
      "execution_count": null,
      "outputs": []
    }
  ]
}