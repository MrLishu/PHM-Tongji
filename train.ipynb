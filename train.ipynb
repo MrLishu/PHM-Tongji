{
  "cells": [
    {
      "cell_type": "markdown",
      "metadata": {
        "colab_type": "text",
        "id": "view-in-github"
      },
      "source": [
        "<a href=\"https://colab.research.google.com/github/MrLishu/PHM-Tongji/blob/main/train.ipynb\" target=\"_parent\"><img src=\"https://colab.research.google.com/assets/colab-badge.svg\" alt=\"Open In Colab\"/></a>"
      ]
    },
    {
      "cell_type": "code",
      "execution_count": 18,
      "metadata": {
        "colab": {
          "base_uri": "https://localhost:8080/"
        },
        "id": "J6hBoMn-HQj1",
        "outputId": "8b4ff254-685e-405f-8716-eb631bbf5b2d"
      },
      "outputs": [
        {
          "name": "stdout",
          "output_type": "stream",
          "text": [
            "Drive already mounted at /content/drive; to attempt to forcibly remount, call drive.mount(\"/content/drive\", force_remount=True).\n"
          ]
        }
      ],
      "source": [
        "import os\n",
        "import sys\n",
        "\n",
        "sys.path.append(os.path.join(os.getcwd(), 'Mrlishu'))\n",
        "if os.path.exists('/content'):\n",
        "    os.chdir('/content')\n",
        "    CODE_DIR = 'PHM-Tongji'\n",
        "    if not os.path.exists(CODE_DIR):\n",
        "        !git clone https://github.com/MrLishu/PHM-Tongji.git $CODE_DIR\n",
        "    os.chdir(f'./{CODE_DIR}')\n",
        "\n",
        "    # !git config --global user.email \"2601165031@qq.com\"\n",
        "    # !git config --global user.name \"MrLishu\"\n",
        "\n",
        "    # !pip install colabcode\n",
        "    # from colabcode import ColabCode\n",
        "    # ColabCode(port=10000)\n",
        "\n",
        "    from google.colab import drive\n",
        "    drive.mount('/content/drive')"
      ]
    },
    {
      "cell_type": "code",
      "execution_count": null,
      "metadata": {
        "colab": {
          "base_uri": "https://localhost:8080/"
        },
        "id": "PN1LiMg3HQj3",
        "outputId": "ef5bf27a-b2f4-463f-d335-f87a6d08cc9c"
      },
      "outputs": [
        {
          "name": "stdout",
          "output_type": "stream",
          "text": [
            "Continuous wavelet transform... (315/315)\n",
            "Continuous wavelet transform completed.\n",
            "Data saved at data/processed/PHM2010/cwt_1C1024_c1.npy\n",
            "Continuous wavelet transform... (315/315)\n",
            "Continuous wavelet transform completed.\n",
            "Data saved at data/processed/PHM2010/cwt_1C1024_c4.npy\n",
            "Continuous wavelet transform... (315/315)\n",
            "Continuous wavelet transform completed.\n",
            "Data saved at data/processed/PHM2010/cwt_1C1024_c6.npy\n",
            "Completed\n"
          ]
        }
      ],
      "source": [
        "import numpy as np\n",
        "from preprocess import cwt\n",
        "\n",
        "\n",
        "raw_data_directory = r'../drive/PHM-Tongjidata/raw/PHM2010'\n",
        "processed_data_directory = r'data/processed/PHM2010'\n",
        "\n",
        "sampling_rate=50000\n",
        "\n",
        "resample_number=1024\n",
        "step=1\n",
        "\n",
        "totalscale=256\n",
        "wavename='morl'\n",
        "\n",
        "c1_resample = np.load(r'data/processed/PHM2010/1d_1C1024_data_c1.npy')[:, :, 3:6].transpose(0, 2, 1)\n",
        "c1_label = np.load(r'data/processed/PHM2010/2d_1C512_data_c1_labels.npy')[:, np.newaxis]\n",
        "c4_resample = np.load(r'data/processed/PHM2010/1d_1C1024_data_c4.npy')[:, :, 3:6].transpose(0, 2, 1)\n",
        "c4_label = np.load(r'data/processed/PHM2010/2d_1C512_data_c4_labels.npy')[:, np.newaxis]\n",
        "c6_resample = np.load(r'data/processed/PHM2010/1d_1C1024_data_c6.npy')[:, :, 3:6].transpose(0, 2, 1)\n",
        "c6_label = np.load(r'data/processed/PHM2010/2d_1C512_data_c6_labels.npy')[:, np.newaxis]\n",
        "rs_rate = sampling_rate\n",
        "c1_cwt = cwt(c1_resample, rs_rate, totalscale=totalscale, wavename=wavename, save=True, save_filepath=r'data/processed/PHM2010/cwt_1C1024_c1.npy')\n",
        "c4_cwt = cwt(c4_resample, rs_rate, totalscale=totalscale, wavename=wavename, save=True, save_filepath=r'data/processed/PHM2010/cwt_1C1024_c4.npy')\n",
        "cwt(c6_resample, rs_rate, totalscale=totalscale, wavename=wavename, save=True, save_filepath=r'data/processed/PHM2010/cwt_1C1024_c6.npy')\n",
        "print('Completed')"
      ]
    },
    {
      "cell_type": "code",
      "execution_count": 19,
      "metadata": {
        "id": "iwk8S1uSHQj4"
      },
      "outputs": [],
      "source": [
        "import torch\n",
        "import torch.nn as nn\n",
        "from torch.optim import Adam\n",
        "from torch.utils.data import Dataset, DataLoader\n",
        "from torchvision import models, transforms\n",
        "from sklearn.model_selection import train_test_split"
      ]
    },
    {
      "cell_type": "code",
      "execution_count": null,
      "metadata": {
        "id": "-1rf0U7UHQj5"
      },
      "outputs": [],
      "source": [
        "class MyDataset(Dataset):\n",
        "    def __init__(self, data, label):\n",
        "        self.data = data\n",
        "        self.label = label\n",
        "\n",
        "    def __len__(self):\n",
        "        return self.data.shape[0]\n",
        "    \n",
        "    def __getitem__(self, index):\n",
        "        return self.data[index], self.label[index]"
      ]
    },
    {
      "cell_type": "code",
      "execution_count": 46,
      "metadata": {
        "id": "A4BPu8tgum-B"
      },
      "outputs": [],
      "source": [
        "import pywt\n",
        "\n",
        "class CWTTransform(object):\n",
        "  def __init__(self, sampling_rate, totalscale=256, wavename='morl'):\n",
        "    fc = pywt.central_frequency(wavename)\n",
        "    cparam = 2 * fc * totalscale\n",
        "    self.scales = cparam / np.arange(totalscale, 0, -1)\n",
        "    self.wavename = wavename\n",
        "    self.sampling_rate = sampling_rate\n",
        "\n",
        "  def __call__(self, signal):\n",
        "    cwtmatr, frequencies = pywt.cwt(signal, self.scales, self.wavename, 1 / self.sampling_rate)\n",
        "    cwtmatr = cwtmatr.transpose(1, 2, 0, 3)\n",
        "    return cwtmatr\n",
        "\n",
        "class StandandizeTransform(object):\n",
        "  def __init__(self):\n",
        "    pass\n",
        "  \n",
        "  def __call__(self, signal):\n",
        "    signal -= signal.mean(axis=-1)[:, :, :, np.newaxis]\n",
        "    signal /= signal.std(axis=-1)[:, :, :, np.newaxis]\n",
        "    return signal\n"
      ]
    },
    {
      "cell_type": "code",
      "execution_count": null,
      "metadata": {
        "colab": {
          "base_uri": "https://localhost:8080/"
        },
        "id": "y755DedEx_3M",
        "outputId": "36ad8ea4-9121-444e-cb7e-bcc70816fcd2"
      },
      "outputs": [
        {
          "data": {
            "text/plain": [
              "((630, 3, 256, 1024), (630, 1))"
            ]
          },
          "execution_count": 5,
          "metadata": {},
          "output_type": "execute_result"
        }
      ],
      "source": [
        "data = np.r_[c1_cwt, c4_cwt]\n",
        "label = np.r_[c1_label, c4_label]\n",
        "del c1_cwt, c4_cwt\n",
        "data.shape, label.shape"
      ]
    },
    {
      "cell_type": "code",
      "execution_count": null,
      "metadata": {
        "id": "HPz0G-p7HQj6"
      },
      "outputs": [],
      "source": [
        "x_train, x_test, y_train, y_test = train_test_split(data, label, test_size=0.1, random_state=99)\n",
        "train_dataset = MyDataset(x_train, y_train)\n",
        "test_dataset = MyDataset(x_test, y_test)\n",
        "train_dataloader = DataLoader(train_dataset, batch_size=4, shuffle=True)\n",
        "test_dataloader = DataLoader(test_dataset, batch_size=4)"
      ]
    },
    {
      "cell_type": "code",
      "execution_count": 68,
      "metadata": {
        "id": "BnoXSHQCHQj6"
      },
      "outputs": [],
      "source": [
        "model = models.resnet18(pretrained=False)\n",
        "# model.conv1 = nn.Conv2d(6, 64, kernel_size=(7, 7), stride=(2, 2), padding=(3, 3))\n",
        "model.fc = nn.Linear(in_features=512, out_features=1, bias=True)"
      ]
    },
    {
      "cell_type": "code",
      "execution_count": 73,
      "metadata": {
        "id": "h5Dm_im8HQj8"
      },
      "outputs": [],
      "source": [
        "device = device = torch.device(\"cuda:0\" if torch.cuda.is_available() else \"cpu\")\n",
        "model = model.to(device)\n",
        "\n",
        "criterion = nn.MSELoss()\n",
        "optimizer = Adam(model.parameters(), lr=0.001)\n",
        "scheduler = None\n",
        "num_epochs = 25"
      ]
    },
    {
      "cell_type": "code",
      "execution_count": null,
      "metadata": {
        "colab": {
          "base_uri": "https://localhost:8080/"
        },
        "id": "EA4ZDoaSHQj9",
        "outputId": "7642fe6d-5df5-41c9-ff33-f9900d8f0199"
      },
      "outputs": [
        {
          "name": "stdout",
          "output_type": "stream",
          "text": [
            "Epoch 0/24\n",
            "----------\n",
            "Running loss: 569943.363\n",
            "Val loss: 12367.669\n",
            "Error mean: 25.476\n",
            "Error std: 11.205\n",
            "\n",
            "Epoch 1/24\n",
            "----------\n",
            "Running loss: 57575.135\n",
            "Val loss: 2962.096\n",
            "Error mean: 11.007\n",
            "Error std: 9.272\n",
            "\n",
            "Epoch 2/24\n",
            "----------\n",
            "Running loss: 33898.848\n",
            "Val loss: 2223.990\n",
            "Error mean: 8.936\n",
            "Error std: 11.463\n",
            "\n",
            "Epoch 3/24\n",
            "----------\n",
            "Running loss: 18180.915\n",
            "Val loss: 1355.218\n",
            "Error mean: 8.087\n",
            "Error std: 8.497\n",
            "\n",
            "Epoch 4/24\n",
            "----------\n",
            "Running loss: 16645.682\n",
            "Val loss: 811.987\n",
            "Error mean: 5.340\n",
            "Error std: 7.037\n",
            "\n",
            "Epoch 5/24\n",
            "----------\n",
            "Running loss: 11238.261\n",
            "Val loss: 2021.822\n",
            "Error mean: 9.560\n",
            "Error std: 7.139\n",
            "\n",
            "Epoch 6/24\n",
            "----------\n",
            "Running loss: 9380.359\n",
            "Val loss: 1026.227\n",
            "Error mean: 6.442\n",
            "Error std: 7.766\n",
            "\n",
            "Epoch 7/24\n",
            "----------\n",
            "Running loss: 9127.135\n",
            "Val loss: 661.926\n",
            "Error mean: 4.554\n",
            "Error std: 5.846\n",
            "\n",
            "Epoch 8/24\n",
            "----------\n",
            "Running loss: 7105.436\n",
            "Val loss: 774.722\n",
            "Error mean: 4.950\n",
            "Error std: 5.989\n",
            "\n",
            "Epoch 9/24\n",
            "----------\n",
            "Running loss: 6412.315\n",
            "Val loss: 1368.091\n",
            "Error mean: 6.594\n",
            "Error std: 7.480\n",
            "\n",
            "Epoch 10/24\n",
            "----------\n",
            "Running loss: 5458.305\n",
            "Val loss: 692.757\n",
            "Error mean: 4.930\n",
            "Error std: 5.120\n",
            "\n",
            "Epoch 11/24\n",
            "----------\n",
            "Running loss: 6311.805\n",
            "Val loss: 516.198\n",
            "Error mean: 4.339\n",
            "Error std: 5.211\n",
            "\n",
            "Epoch 12/24\n",
            "----------\n",
            "Running loss: 4924.145\n",
            "Val loss: 320.454\n",
            "Error mean: 3.220\n",
            "Error std: 4.182\n",
            "\n",
            "Epoch 13/24\n",
            "----------\n",
            "Running loss: 4180.623\n",
            "Val loss: 978.148\n",
            "Error mean: 6.076\n",
            "Error std: 6.157\n",
            "\n",
            "Epoch 14/24\n",
            "----------\n",
            "Running loss: 3198.375\n",
            "Val loss: 398.955\n",
            "Error mean: 3.774\n",
            "Error std: 3.921\n",
            "\n",
            "Epoch 15/24\n",
            "----------\n",
            "Running loss: 4627.128\n",
            "Val loss: 448.986\n",
            "Error mean: 3.984\n",
            "Error std: 5.314\n",
            "\n",
            "Epoch 16/24\n",
            "----------\n",
            "Running loss: 4237.662\n",
            "Val loss: 954.951\n",
            "Error mean: 5.423\n",
            "Error std: 6.155\n",
            "\n",
            "Epoch 17/24\n",
            "----------\n",
            "Running loss: 3117.245\n",
            "Val loss: 224.912\n",
            "Error mean: 2.602\n",
            "Error std: 3.543\n",
            "\n",
            "Epoch 18/24\n",
            "----------\n",
            "Running loss: 2754.337\n",
            "Val loss: 459.068\n",
            "Error mean: 4.616\n",
            "Error std: 3.772\n",
            "\n",
            "Epoch 19/24\n",
            "----------\n",
            "Running loss: 5149.494\n",
            "Val loss: 450.140\n",
            "Error mean: 3.638\n",
            "Error std: 5.343\n",
            "\n",
            "Epoch 20/24\n",
            "----------\n",
            "Running loss: 3406.596\n",
            "Val loss: 859.693\n",
            "Error mean: 5.665\n",
            "Error std: 6.105\n",
            "\n",
            "Epoch 21/24\n",
            "----------\n",
            "Running loss: 3258.571\n",
            "Val loss: 1012.096\n",
            "Error mean: 6.862\n",
            "Error std: 4.842\n",
            "\n",
            "Epoch 22/24\n",
            "----------\n",
            "Running loss: 1974.564\n",
            "Val loss: 439.236\n",
            "Error mean: 3.596\n",
            "Error std: 4.840\n",
            "\n",
            "Epoch 23/24\n",
            "----------\n",
            "Running loss: 1815.806\n",
            "Val loss: 344.567\n",
            "Error mean: 3.432\n",
            "Error std: 3.756\n",
            "\n",
            "Epoch 24/24\n",
            "----------\n",
            "Running loss: 1918.468\n",
            "Val loss: 192.373\n",
            "Error mean: 2.493\n",
            "Error std: 3.432\n",
            "\n"
          ]
        }
      ],
      "source": [
        "loss_table = []\n",
        "\n",
        "for epoch in range(num_epochs):\n",
        "    print('Epoch {}/{}'.format(epoch, num_epochs - 1))\n",
        "    print('-' * 10)\n",
        "\n",
        "    running_loss = 0.0\n",
        "\n",
        "    # Iterate over data.\n",
        "    for inputs, labels in train_dataloader:\n",
        "        model.train()\n",
        "        inputs = inputs.float().to(device)\n",
        "        labels = labels.float().to(device)\n",
        "\n",
        "        optimizer.zero_grad()\n",
        "\n",
        "        outputs = model(inputs)\n",
        "        loss = criterion(outputs, labels)\n",
        "\n",
        "        loss.backward()\n",
        "        optimizer.step()\n",
        "\n",
        "        running_loss += loss.item()\n",
        "      \n",
        "    loss_table.append(running_loss)\n",
        "    print(f'Running loss: {running_loss:.3f}')\n",
        "\n",
        "    val_loss = 0.0\n",
        "    error_table = []\n",
        "    for inputs, labels in test_dataloader:\n",
        "        model.eval()\n",
        "        inputs = inputs.float().to(device)\n",
        "        labels = labels.float().to(device)\n",
        "\n",
        "        outputs = model(inputs)\n",
        "        loss = criterion(outputs, labels)\n",
        "\n",
        "        val_loss += loss.item()\n",
        "\n",
        "        error_table += (outputs - labels).flatten().detach().cpu().numpy().tolist()\n",
        "    \n",
        "    print(f'Val loss: {val_loss:.3f}')\n",
        "    print(f'Error mean: {np.abs(error_table).mean():.3f}')\n",
        "    print(f'Error std: {np.array(error_table).std():.3f}')\n",
        "    print()"
      ]
    },
    {
      "cell_type": "code",
      "execution_count": 90,
      "metadata": {
        "colab": {
          "base_uri": "https://localhost:8080/"
        },
        "id": "OI6BEgiZ3aL4",
        "outputId": "9a9de10c-f4f3-4df2-efb4-ce8406364bd8"
      },
      "outputs": [
        {
          "name": "stdout",
          "output_type": "stream",
          "text": [
            "Epoch 0/24\n",
            "----------\n",
            "Running loss: 4182.475\n",
            "Epoch 1/24\n",
            "----------\n",
            "Running loss: 2194.342\n",
            "Epoch 2/24\n",
            "----------\n",
            "Running loss: 4368.598\n",
            "Epoch 3/24\n",
            "----------\n",
            "Running loss: 3440.986\n",
            "Epoch 4/24\n",
            "----------\n",
            "Running loss: 1720.657\n",
            "Epoch 5/24\n",
            "----------\n",
            "Running loss: 1513.117\n",
            "Epoch 6/24\n",
            "----------\n",
            "Running loss: 1390.291\n",
            "Epoch 7/24\n",
            "----------\n",
            "Running loss: 1558.321\n",
            "Epoch 8/24\n",
            "----------\n",
            "Running loss: 1807.909\n",
            "Epoch 9/24\n",
            "----------\n",
            "Running loss: 1594.265\n",
            "Epoch 10/24\n",
            "----------\n",
            "Running loss: 1690.112\n",
            "Epoch 11/24\n",
            "----------\n",
            "Running loss: 2045.360\n",
            "Epoch 12/24\n",
            "----------\n",
            "Running loss: 4015.646\n",
            "Epoch 13/24\n",
            "----------\n",
            "Running loss: 2413.017\n",
            "Epoch 14/24\n",
            "----------\n",
            "Running loss: 1345.514\n",
            "Epoch 15/24\n",
            "----------\n",
            "Running loss: 2501.127\n",
            "Epoch 16/24\n",
            "----------\n",
            "Running loss: 1343.180\n",
            "Epoch 17/24\n",
            "----------\n",
            "Running loss: 1725.544\n",
            "Epoch 18/24\n",
            "----------\n",
            "Running loss: 2978.336\n",
            "Epoch 19/24\n",
            "----------\n",
            "Running loss: 5819.164\n",
            "Epoch 20/24\n",
            "----------\n",
            "Running loss: 1835.257\n",
            "Epoch 21/24\n",
            "----------\n",
            "Running loss: 1544.350\n",
            "Epoch 22/24\n",
            "----------\n",
            "Running loss: 1543.194\n",
            "Epoch 23/24\n",
            "----------\n",
            "Running loss: 2975.642\n",
            "Epoch 24/24\n",
            "----------\n",
            "Running loss: 3605.336\n"
          ]
        }
      ],
      "source": [
        "loss_table = []\n",
        "\n",
        "for epoch in range(num_epochs):\n",
        "    print('Epoch {}/{}'.format(epoch, num_epochs - 1))\n",
        "    print('-' * 10)\n",
        "\n",
        "    running_loss = 0.0\n",
        "\n",
        "    # Iterate over data.\n",
        "    for step, (inputs, labels) in enumerate(train_dataloader):\n",
        "        model.train()\n",
        "        inputs = inputs.float().to(device)\n",
        "        labels = labels.float().to(device)\n",
        "\n",
        "        optimizer.zero_grad()\n",
        "\n",
        "        outputs = model(inputs)\n",
        "        loss = criterion(outputs, labels[:, np.newaxis])\n",
        "\n",
        "        loss.backward()\n",
        "        optimizer.step()\n",
        "\n",
        "        running_loss += loss.item()\n",
        "      \n",
        "    loss_table.append(running_loss)\n",
        "    print(f'Running loss: {running_loss:.3f}')"
      ]
    },
    {
      "cell_type": "code",
      "execution_count": 95,
      "metadata": {
        "colab": {
          "base_uri": "https://localhost:8080/"
        },
        "id": "JIKBDNhHsJYO",
        "outputId": "37a3b716-295f-49f4-d8ea-10663ece577b"
      },
      "outputs": [
        {
          "name": "stdout",
          "output_type": "stream",
          "text": [
            "Mounted at /content/drive\n"
          ]
        }
      ],
      "source": [
        "import time\n",
        "torch.save(model, rf'/content/drive/MyDrive/PHM-Tongji/data/model/{time.asctime(time.localtime())}.pth')\n",
        "drive.flush_and_unmount()\n",
        "drive.mount('/content/drive')"
      ]
    },
    {
      "cell_type": "code",
      "execution_count": 92,
      "metadata": {
        "colab": {
          "base_uri": "https://localhost:8080/",
          "height": 285
        },
        "id": "9NoNOtvoh7gh",
        "outputId": "11779c2e-ad2b-45e9-a39f-30e1e3f2af09"
      },
      "outputs": [
        {
          "data": {
            "text/plain": [
              "[<matplotlib.lines.Line2D at 0x7fb356a31550>]"
            ]
          },
          "execution_count": 92,
          "metadata": {},
          "output_type": "execute_result"
        },
        {
          "data": {
            "image/png": "[encoded data removed]",
            "text/plain": [
              "<Figure size 432x288 with 1 Axes>"
            ]
          },
          "metadata": {
            "needs_background": "light"
          },
          "output_type": "display_data"
        }
      ],
      "source": [
        "import matplotlib.pyplot as plt\n",
        "\n",
        "plt.plot(loss_table)"
      ]
    },
    {
      "cell_type": "code",
      "execution_count": 98,
      "metadata": {
        "id": "BcNwP8kCiBuG"
      },
      "outputs": [],
      "source": [
        "model.eval()\n",
        "\n",
        "test_dataset = PHMDataset(r'/content/drive/MyDrive/PHM-Tongji/data', ['c4'], train=False)\n",
        "test_dataloader = DataLoader(test_dataset, batch_size=4, num_workers=2)\n",
        "\n",
        "label_table = []\n",
        "predict_table = []\n",
        "\n",
        "for inputs, labels in test_dataloader:\n",
        "  inputs = inputs.float().to(device)\n",
        "  labels = labels.float().to(device)\n",
        "\n",
        "  outputs = model(inputs)\n",
        "\n",
        "  label_table += labels.flatten().cpu().numpy().tolist()\n",
        "  predict_table += outputs.flatten().cpu().detach().numpy().tolist()\n",
        "\n",
        "labels = np.array(label_table)\n",
        "predicted = np.array(predict_table)"
      ]
    },
    {
      "cell_type": "code",
      "execution_count": 99,
      "metadata": {
        "colab": {
          "base_uri": "https://localhost:8080/",
          "height": 283
        },
        "id": "gUmOxNKAkwPv",
        "outputId": "08b74ccd-7492-4f24-82ed-16fd439344c7"
      },
      "outputs": [
        {
          "data": {
            "text/plain": [
              "<matplotlib.legend.Legend at 0x7fb3513c6e10>"
            ]
          },
          "execution_count": 99,
          "metadata": {},
          "output_type": "execute_result"
        },
        {
          "data": {
            "image/png": "[encoded data removed]",
            "text/plain": [
              "<Figure size 432x288 with 1 Axes>"
            ]
          },
          "metadata": {
            "needs_background": "light"
          },
          "output_type": "display_data"
        }
      ],
      "source": [
        "plt.plot(np.arange(len(label_table)), labels, label='label')\n",
        "plt.plot(np.arange(len(label_table)), predicted, label='predicted')\n",
        "plt.legend()"
      ]
    },
    {
      "cell_type": "code",
      "execution_count": 87,
      "metadata": {
        "colab": {
          "base_uri": "https://localhost:8080/",
          "height": 355
        },
        "id": "2CULZzZCkBZI",
        "outputId": "7ec2d6a8-6e99-47af-85d7-e5fe8a7ebafd"
      },
      "outputs": [
        {
          "data": {
            "text/plain": [
              "(array([ 21.,  18.,  31.,  26., 103.,  63.,  32.,  15.,   3.,   3.]),\n",
              " array([-111.02833557,  -94.3115799 ,  -77.59482422,  -60.87806854,\n",
              "         -44.16131287,  -27.44455719,  -10.72780151,    5.98895416,\n",
              "          22.70570984,   39.42246552,   56.13922119]),\n",
              " <a list of 10 Patch objects>)"
            ]
          },
          "execution_count": 87,
          "metadata": {},
          "output_type": "execute_result"
        },
        {
          "data": {
            "image/png": "[encoded data removed]",
            "text/plain": [
              "<Figure size 432x288 with 1 Axes>"
            ]
          },
          "metadata": {
            "needs_background": "light"
          },
          "output_type": "display_data"
        }
      ],
      "source": [
        "plt.hist(predicted - labels)"
      ]
    },
    {
      "cell_type": "code",
      "execution_count": null,
      "metadata": {
        "colab": {
          "base_uri": "https://localhost:8080/",
          "height": 355
        },
        "id": "Y5676ZJbubkk",
        "outputId": "54d21216-22cf-4a42-e3c9-d8ac89e505e7"
      },
      "outputs": [
        {
          "data": {
            "text/plain": [
              "(array([ 84.,  53., 138.,  27.,   7.,   2.,   3.,   0.,   0.,   1.]),\n",
              " array([-0.35440418, -0.11570072,  0.12300273,  0.36170618,  0.60040963,\n",
              "         0.83911309,  1.07781654,  1.31651999,  1.55522344,  1.7939269 ,\n",
              "         2.03263035]),\n",
              " <a list of 10 Patch objects>)"
            ]
          },
          "execution_count": 43,
          "metadata": {},
          "output_type": "execute_result"
        },
        {
          "data": {
            "image/png": "[encoded data removed]",
            "text/plain": [
              "<Figure size 432x288 with 1 Axes>"
            ]
          },
          "metadata": {
            "needs_background": "light"
          },
          "output_type": "display_data"
        }
      ],
      "source": [
        "plt.hist((predicted - labels) / labels)"
      ]
    },
    {
      "cell_type": "code",
      "execution_count": null,
      "metadata": {
        "colab": {
          "base_uri": "https://localhost:8080/"
        },
        "id": "1Mhnw8YOu4_H",
        "outputId": "47f8046d-e27d-42ff-aef3-37f660d42cb8"
      },
      "outputs": [
        {
          "data": {
            "text/plain": [
              "33.73813358325385"
            ]
          },
          "execution_count": 41,
          "metadata": {},
          "output_type": "execute_result"
        }
      ],
      "source": [
        "(np.array(label_table) - np.array(predict_table)).std()"
      ]
    },
    {
      "cell_type": "code",
      "execution_count": null,
      "metadata": {
        "id": "sm-0eO5UvIP0"
      },
      "outputs": [],
      "source": []
    }
  ],
  "metadata": {
    "accelerator": "GPU",
    "colab": {
      "include_colab_link": true,
      "name": "train.ipynb",
      "provenance": []
    },
    "interpreter": {
      "hash": "f3aa6331c07ee25bacc791f93f707d5a9245b8fc1ed968ce9ad3ec4728621a3f"
    },
    "kernelspec": {
      "display_name": "Python 3.7.12 64-bit",
      "name": "python3"
    },
    "language_info": {
      "codemirror_mode": {
        "name": "ipython",
        "version": 3
      },
      "file_extension": ".py",
      "mimetype": "text/x-python",
      "name": "python",
      "nbconvert_exporter": "python",
      "pygments_lexer": "ipython3",
      "version": "3.9.2"
    },
    "orig_nbformat": 4
  },
  "nbformat": 4,
  "nbformat_minor": 0
}
